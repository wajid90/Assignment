{
 "cells": [
  {
   "cell_type": "code",
   "execution_count": 2,
   "id": "continent-history",
   "metadata": {},
   "outputs": [],
   "source": []
  },
  {
   "cell_type": "code",
   "execution_count": 3,
   "id": "placed-disclaimer",
   "metadata": {},
   "outputs": [],
   "source": [
    "import numpy as np\n",
    "from scipy import stats\n",
    "import math\n",
    "import statistics\n",
    "import os\n",
    "import sys"
   ]
  },
  {
   "cell_type": "markdown",
   "id": "skilled-craft",
   "metadata": {},
   "source": [
    "# Problem Statement 1:\n",
    "\n",
    "### The marks awarded for an assignment set for a Year 8 class of 20 students were as follows:\n",
    "\n",
    "### 6 7 5 7 7 8 7 6 9 7 4 10 6 8 8 9 5 6 4 8"
   ]
  },
  {
   "cell_type": "code",
   "execution_count": null,
   "id": "official-sigma",
   "metadata": {},
   "outputs": [],
   "source": [
    "marks = np.asarray([6,7,5,7,7,8,7,6,9,7,4,10,6,8,8,9,5,6,4,8])"
   ]
  },
  {
   "cell_type": "code",
   "execution_count": 9,
   "id": "explicit-burton",
   "metadata": {},
   "outputs": [
    {
     "name": "stdout",
     "output_type": "stream",
     "text": [
      "The mean of the marks is 6.85\n",
      "The median of the marks is 7.0\n",
      "The mode of the marks is 7\n",
      "The standard Deviation of the marks is 1.5898113095584647\n"
     ]
    }
   ],
   "source": [
    "def stats(marks):\n",
    "    print(f\"The mean of the marks is {np.mean(marks)}\")\n",
    "    print(f\"The median of the marks is {np.median(marks)}\")\n",
    "    print(f\"The mode of the marks is {statistics.mode(marks)}\")\n",
    "    print(f\"The standard Deviation of the marks is {np.std(marks)}\")\n",
    "    \n",
    "stats(marks)"
   ]
  },
  {
   "cell_type": "markdown",
   "id": "concerned-minute",
   "metadata": {},
   "source": [
    "# Problem Statement 2:\n",
    "\n",
    "### The number of calls from motorists per day for roadside service was recorded for a particular month:\n",
    "\n",
    "### 28, 122, 217, 130, 120, 86, 80, 90, 140, 120, 70, 40, 145, 113, 90, 68, 174, 194, 170,\n",
    "### 100, 75, 104, 97, 75,123, 100, 75, 104, 97, 75, 123, 100, 89, 120, 109"
   ]
  },
  {
   "cell_type": "markdown",
   "id": "peripheral-appendix",
   "metadata": {},
   "source": []
  },
  {
   "cell_type": "code",
   "execution_count": 10,
   "id": "about-issue",
   "metadata": {},
   "outputs": [],
   "source": [
    "call_records =np.asarray([28, 122, 217, 130, 120, 86, 80, 90, 140, 120, 70, 40, 145, 113, 90, 68, 174, 194, 170,100, 75, 104, 97, 75,123, 100, 75, 104, 97, 75, 123, 100, 89, 120, 109])"
   ]
  },
  {
   "cell_type": "code",
   "execution_count": 11,
   "id": "solid-fundamental",
   "metadata": {},
   "outputs": [
    {
     "name": "stdout",
     "output_type": "stream",
     "text": [
      "The mean of the marks is 107.51428571428572\n",
      "The median of the marks is 100.0\n",
      "The mode of the marks is 75\n",
      "The standard Deviation of the marks is 38.77287080168403\n"
     ]
    }
   ],
   "source": [
    "stats(call_records)"
   ]
  },
  {
   "cell_type": "markdown",
   "id": "nominated-offense",
   "metadata": {},
   "source": [
    "# Problem Statement 3:\n",
    "\n",
    "### The number of times I go to the gym in weekdays, are given below along with its associated probability:\n",
    "### x = 0, 1, 2, 3, 4, 5\n",
    "### f(x) = 0.09, 0.15, 0.40, 0.25, 0.10, 0.01\n",
    "### Calculate the mean no. of workouts in a week. Also evaluate the variance involved in it."
   ]
  },
  {
   "cell_type": "code",
   "execution_count": 12,
   "id": "surrounded-malpractice",
   "metadata": {},
   "outputs": [],
   "source": [
    "x = np.asarray([0,1,2,3,4,5])\n",
    "f_x = np.array([0.09,0.15,0.40,0.25,0.10,0.01]) "
   ]
  },
  {
   "cell_type": "code",
   "execution_count": 18,
   "id": "cleared-battle",
   "metadata": {},
   "outputs": [
    {
     "name": "stdout",
     "output_type": "stream",
     "text": [
      "Mean no. of workouts: 2.15\n",
      "Variance of workouts: [1.2275]\n"
     ]
    }
   ],
   "source": [
    "x.reshape((1,-1))\n",
    "f_x.reshape((-1,1))\n",
    "mean=np.dot(x,f_x)\n",
    "variance_of_x=(x-mean)**2\n",
    "variance = np.dot(variance_of_x.reshape(1,-1),f_x)\n",
    "print(f\"Mean no. of workouts: {mean}\")\n",
    "print(f\"Variance of workouts: {variance}\")"
   ]
  },
  {
   "cell_type": "markdown",
   "id": "fifty-approval",
   "metadata": {},
   "source": [
    "# Problem Statement 4:"
   ]
  },
  {
   "cell_type": "code",
   "execution_count": 19,
   "id": "moderate-consciousness",
   "metadata": {},
   "outputs": [],
   "source": [
    "from scipy import integrate"
   ]
  },
  {
   "cell_type": "code",
   "execution_count": null,
   "id": "pending-yorkshire",
   "metadata": {},
   "outputs": [],
   "source": [
    "# PDF (𝑑) = 20𝑒−20(𝑑−12.5)\n",
    "#𝑑 ≥ 12.5\n",
    "PDF=lambda d:20*(np.exp((-20*(d-12.5))))\n",
    "x = 12.6\n",
    "P_x=integrate.quad(PDF,12.6,np.inf)\n",
    "y = 11\n",
    "CDF=integrate.quad(PDF,-np.inf,y)\n",
    "print(f\"Proportion of Parts need to scrapped when d >12.6mm is :{P_x[0]}\")\n",
    "print(f\"CDF when d= 11mm is:{CDF[0]}\")\n",
    "print(f\"Proportion of CDF when d>12.5mm is : {integrate.quad(PDF,12.5,np.inf)[0]}\")\n"
   ]
  },
  {
   "cell_type": "code",
   "execution_count": null,
   "id": "informal-assets",
   "metadata": {},
   "outputs": [],
   "source": []
  },
  {
   "cell_type": "markdown",
   "id": "prostate-annotation",
   "metadata": {},
   "source": [
    "# Problem Statement 5:"
   ]
  },
  {
   "cell_type": "code",
   "execution_count": 37,
   "id": "surrounded-yemen",
   "metadata": {},
   "outputs": [],
   "source": [
    "import matplotlib.pyplot as plt\n",
    "import seaborn as sns\n",
    "%matplotlib inline\n",
    "import pandas as pd\n",
    "import scipy.special\n"
   ]
  },
  {
   "cell_type": "code",
   "execution_count": 38,
   "id": "opened-profile",
   "metadata": {},
   "outputs": [
    {
     "name": "stdout",
     "output_type": "stream",
     "text": [
      "a      2.000000\n",
      "B_a    0.324135\n",
      "Name: 2, dtype: float64\n"
     ]
    },
    {
     "name": "stderr",
     "output_type": "stream",
     "text": [
      "c:\\users\\user\\appdata\\local\\programs\\python\\python37\\lib\\site-packages\\seaborn\\_decorators.py:43: FutureWarning: Pass the following variables as keyword args: x, y. From version 0.12, the only valid positional argument will be `data`, and passing other arguments without an explicit keyword will result in an error or misinterpretation.\n",
      "  FutureWarning\n"
     ]
    },
    {
     "data": {
      "text/plain": [
       "Text(0, 0.5, 'Probability of Fault')"
      ]
     },
     "execution_count": 38,
     "metadata": {},
     "output_type": "execute_result"
    },
    {
     "data": {
      "image/png": "[encoded data removed]",
      "text/plain": [
       "<Figure size 1080x360 with 1 Axes>"
      ]
     },
     "metadata": {
      "needs_background": "light"
     },
     "output_type": "display_data"
    }
   ],
   "source": [
    "#x = faulty = 0.3\n",
    "#y = not faulty = 0.7\n",
    "x = 0.3\n",
    "y = 0.7\n",
    "df=pd.DataFrame({'a':[int(i) for i in range(7)],\n",
    "                 'B_a':[scipy.special.comb(6,i)*(x**i)*(y**(6-i)) for i in range(7)]})\n",
    "print(df.iloc[2])\n",
    "plt.figure(figsize=(15,5))\n",
    "sns.barplot('a','B_a',data=df)\n",
    "plt.xlabel('Number of Faulty Leds')\n",
    "plt.ylabel('Probability of Fault')"
   ]
  },
  {
   "cell_type": "code",
   "execution_count": 39,
   "id": "respective-force",
   "metadata": {},
   "outputs": [
    {
     "name": "stdout",
     "output_type": "stream",
     "text": [
      "mean = 2.0\n",
      "Standard Deviation : 1.0\n"
     ]
    }
   ],
   "source": [
    "df['Expected value']=df['a']*df['B_a']\n",
    "mean=np.round(df['Expected value'].sum())\n",
    "print('mean = {}'.format(mean))\n",
    "df['variance']=df['B_a']*(df['a']-mean)**2\n",
    "std=np.sqrt(df['variance'].sum())\n",
    "print(f\"Standard Deviation : {np.round(std)}\")"
   ]
  },
  {
   "cell_type": "markdown",
   "id": "superb-equation",
   "metadata": {},
   "source": [
    "# Problem Statement 6:"
   ]
  },
  {
   "cell_type": "code",
   "execution_count": 40,
   "id": "steady-calibration",
   "metadata": {},
   "outputs": [
    {
     "name": "stdout",
     "output_type": "stream",
     "text": [
      "Probability of each of them solving 5 questions correctly is:0.04619989057299213\n",
      "Probability of each of them solving 4,6 questions correctly is:0.018374956477894576\n"
     ]
    }
   ],
   "source": [
    "#Gaurav- avg=,p1=0.75\n",
    "#Barakha- avg=5,p2=0.45\n",
    "#here both the students are independent from each other, correction rate of one doesnot effect another one \n",
    "#G(5)*B(5)\n",
    "\n",
    "from scipy.stats import binom\n",
    "import numpy as np\n",
    "\n",
    "print(f\"Probability of each of them solving 5 questions correctly is:{binom.pmf(5,8,0.75)*binom.pmf(5,12,0.45)}\")\n",
    "print(f\"Probability of each of them solving 4,6 questions correctly is:{binom.pmf(4,8,0.75)*binom.pmf(6,12,0.45)}\")\n",
    "#their correction rates effect their combined probability\n"
   ]
  },
  {
   "cell_type": "code",
   "execution_count": 41,
   "id": "light-gnome",
   "metadata": {},
   "outputs": [],
   "source": [
    "def binom_plot(n,p,):\n",
    "    fig,ax=plt.subplots(1,1)\n",
    "    x = np.arange(binom.ppf(0.01, n, p),binom.ppf(0.99, n, p))\n",
    "    ax.plot(x, binom.pmf(x, n, p), 'bo', ms=8, label='binom pmf')\n",
    "    ax.vlines(x, 0, binom.pmf(x, n, p), colors='b', lw=5, alpha=0.5)"
   ]
  },
  {
   "cell_type": "code",
   "execution_count": 42,
   "id": "interior-powder",
   "metadata": {},
   "outputs": [
    {
     "data": {
      "image/png": "[encoded data removed]",
      "text/plain": [
       "<Figure size 432x288 with 1 Axes>"
      ]
     },
     "metadata": {
      "needs_background": "light"
     },
     "output_type": "display_data"
    }
   ],
   "source": [
    "binom_plot(8,0.75)"
   ]
  },
  {
   "cell_type": "code",
   "execution_count": 43,
   "id": "external-bicycle",
   "metadata": {},
   "outputs": [
    {
     "data": {
      "image/png": "[encoded data removed]",
      "text/plain": [
       "<Figure size 432x288 with 1 Axes>"
      ]
     },
     "metadata": {
      "needs_background": "light"
     },
     "output_type": "display_data"
    }
   ],
   "source": [
    "binom_plot(12,0.45)"
   ]
  },
  {
   "cell_type": "code",
   "execution_count": 44,
   "id": "ahead-porcelain",
   "metadata": {},
   "outputs": [
    {
     "data": {
      "text/plain": [
       "<matplotlib.collections.LineCollection at 0x1b629344bc8>"
      ]
     },
     "execution_count": 44,
     "metadata": {},
     "output_type": "execute_result"
    },
    {
     "data": {
      "image/png": "[encoded data removed]",
      "text/plain": [
       "<Figure size 432x288 with 1 Axes>"
      ]
     },
     "metadata": {
      "needs_background": "light"
     },
     "output_type": "display_data"
    }
   ],
   "source": [
    "\n",
    "fig,ax=plt.subplots(1,1)\n",
    "x = np.arange(1,11)\n",
    "ax.plot(x, binom.pmf(x,8,0.75)*binom.pmf(x,12,0.45), 'bo', ms=8, label='binom pmf')\n",
    "ax.vlines(x, 0, binom.pmf(x,8,0.75)*binom.pmf(x,12,0.45), colors='b', lw=5, alpha=0.5)\n",
    "#maximum combined probability observed at 6 question"
   ]
  },
  {
   "cell_type": "markdown",
   "id": "otherwise-tuition",
   "metadata": {},
   "source": [
    "# Problem Statement 7"
   ]
  },
  {
   "cell_type": "code",
   "execution_count": 45,
   "id": "speaking-venue",
   "metadata": {},
   "outputs": [
    {
     "name": "stdout",
     "output_type": "stream",
     "text": [
      "The probability of arriving 5 cutomers in 4 minutes is : 0.17474768364388296\n",
      "The probability of arriving not more than 3 customers in 4 minutes is : 0.15169069760753714\n",
      "The Probability of more than 3 customers arriving in 4 minutes is : 0.7057700835034357\n"
     ]
    }
   ],
   "source": [
    "from scipy.stats import poisson\n",
    "#We need to calculate average number of customers arriving per 4 minutes\n",
    "#72/60 customers come per minute\n",
    "mu = 4*(72/60) #customers come per 4 minutes\n",
    "print(f\"The probability of arriving 5 cutomers in 4 minutes is : {poisson.pmf(k=5,mu=mu)}\")\n",
    "print(f\"The probability of arriving not more than 3 customers in 4 minutes is : {poisson.pmf(k=3, mu=mu)}\")\n",
    "print(f'The Probability of more than 3 customers arriving in 4 minutes is : {1-poisson.cdf(k=3,mu=mu)}')\n"
   ]
  },
  {
   "cell_type": "code",
   "execution_count": 46,
   "id": "developmental-lincoln",
   "metadata": {},
   "outputs": [
    {
     "data": {
      "text/plain": [
       "Text(0, 0.5, 'Probability')"
      ]
     },
     "execution_count": 46,
     "metadata": {},
     "output_type": "execute_result"
    },
    {
     "data": {
      "image/png": "[encoded data removed]",
      "text/plain": [
       "<Figure size 1080x360 with 1 Axes>"
      ]
     },
     "metadata": {
      "needs_background": "light"
     },
     "output_type": "display_data"
    }
   ],
   "source": [
    "x = list(range(0,10))\n",
    "fig,ax = plt.subplots(1,1,figsize=(15,5))\n",
    "ax.plot(x, poisson.pmf(x,mu), 'bo', ms=8, label='poisson pmf')\n",
    "ax.vlines(x, 0, poisson.pmf(x, mu), colors='b', lw=5, alpha=0.5)\n",
    "plt.xlabel('Number of customers')\n",
    "plt.ylabel('Probability')"
   ]
  },
  {
   "cell_type": "markdown",
   "id": "disciplinary-bridge",
   "metadata": {},
   "source": [
    "# Problem Statement 7:"
   ]
  },
  {
   "cell_type": "code",
   "execution_count": 49,
   "id": "disturbed-terrain",
   "metadata": {},
   "outputs": [
    {
     "name": "stdout",
     "output_type": "stream",
     "text": [
      "The pobability of commiting 2 errors in 455 words financial report is :0.09669027375144444\n",
      "The pobability of commiting 2 errors in 1000 words financial report is :0.23012815007300153\n",
      "The pobability of commiting 2 errors in 255 words financial report is :0.039377135392854104\n"
     ]
    },
    {
     "data": {
      "text/plain": [
       "<matplotlib.collections.LineCollection at 0x1b6292e9d48>"
      ]
     },
     "execution_count": 49,
     "metadata": {},
     "output_type": "execute_result"
    },
    {
     "data": {
      "image/png": "[encoded data removed]",
      "text/plain": [
       "<Figure size 1080x360 with 1 Axes>"
      ]
     },
     "metadata": {
      "needs_background": "light"
     },
     "output_type": "display_data"
    }
   ],
   "source": [
    "from scipy.stats import poisson\n",
    "\n",
    "unit_mu=0.1/77\n",
    "def mu(n):\n",
    "    return n * unit_mu\n",
    "print(f\"The pobability of commiting 2 errors in 455 words financial report is :{poisson.pmf(2,mu=mu(455))}\")\n",
    "print(f\"The pobability of commiting 2 errors in 1000 words financial report is :{poisson.pmf(2,mu=mu(1000))}\")\n",
    "print(f\"The pobability of commiting 2 errors in 255 words financial report is :{poisson.pmf(2,mu=mu(255))}\")\n",
    "x=range(100,1000,50)\n",
    "mu=[i*unit_mu for i in x]\n",
    "fig,ax = plt.subplots(1,1,figsize=(15,5))\n",
    "ax.plot(x,poisson.pmf(2,mu), 'bo', ms=8, label='poisson pmf')\n",
    "ax.vlines(x,0, poisson.pmf(2,mu), colors='b', lw=5, alpha=0.5)"
   ]
  },
  {
   "cell_type": "code",
   "execution_count": 50,
   "id": "clinical-aquatic",
   "metadata": {},
   "outputs": [
    {
     "data": {
      "text/plain": [
       "<matplotlib.collections.LineCollection at 0x1b62a6c7988>"
      ]
     },
     "execution_count": 50,
     "metadata": {},
     "output_type": "execute_result"
    },
    {
     "data": {
      "image/png": "[encoded data removed]",
      "text/plain": [
       "<Figure size 1080x360 with 1 Axes>"
      ]
     },
     "metadata": {
      "needs_background": "light"
     },
     "output_type": "display_data"
    }
   ],
   "source": [
    "fig,ax = plt.subplots(1,1,figsize=(15,5))\n",
    "ax.plot(x,mu, 'bo', ms=8, label='poisson pmf')\n",
    "ax.vlines(x,0,mu, colors='b', lw=5, alpha=0.5)\n",
    "#Value of mu keeps on increasing with number of words"
   ]
  },
  {
   "cell_type": "markdown",
   "id": "athletic-proposition",
   "metadata": {},
   "source": [
    "# Problem Statement 7:\n",
    "### Problem Statement 10:\n",
    "\n",
    "### Please compute the following:\n",
    "### a) P(Z > 1.26), . P(Z < −0.86), P(Z > −1.37), P(−1.25 < Z < 0.37), . P(Z ≤ −4.6)\n",
    "### b) Find the value 𝑧 such that 𝑃(𝑍 > 𝑧) = 0.05\n",
    "### c) Find the value of 𝑧 such that 𝑃(−𝑧 < 𝑍 < 𝑧) = 0.99"
   ]
  },
  {
   "cell_type": "code",
   "execution_count": 52,
   "id": "extra-saying",
   "metadata": {},
   "outputs": [
    {
     "name": "stdout",
     "output_type": "stream",
     "text": [
      "P(Z>1.26) = 0.10383\n",
      "P(Z<-0.86) = 0.19489\n",
      "P(Z>-1.37) = 0.91466\n",
      "P(−1.25 < Z < 0.37) = 0.53866\n",
      "P(Z ≤ −4.6) = 0.00000\n"
     ]
    }
   ],
   "source": [
    "from scipy.stats import norm\n",
    "def P(z,b=-np.inf) :\n",
    "    return integrate.quad(norm.pdf,b,z)[0]\n",
    "\n",
    "print('P(Z>1.26) = %.5f'%(1-P(1.26)))\n",
    "print('P(Z<-0.86) = %.5f'%P(-0.86))\n",
    "print('P(Z>-1.37) = %.5f'%(1-P(-1.37)))\n",
    "print('P(−1.25 < Z < 0.37) = %.5f'%P(0.37,b=-1.25))\n",
    "print('P(Z ≤ −4.6) = %.5f'%P(-4.6))"
   ]
  },
  {
   "cell_type": "markdown",
   "id": "breathing-kenya",
   "metadata": {},
   "source": [
    "# Problem Statement 11:"
   ]
  },
  {
   "cell_type": "code",
   "execution_count": 53,
   "id": "lined-correction",
   "metadata": {},
   "outputs": [
    {
     "name": "stdout",
     "output_type": "stream",
     "text": [
      "Probability that current > 13mA is: 0.06680720126885797\n",
      "Probability that current is between 9 mA and 11 mA is : 1.3085375387259144\n"
     ]
    }
   ],
   "source": [
    "mean = 10\n",
    "std = np.sqrt(4)\n",
    "\n",
    "def I(z, b=-np.inf):\n",
    "    z = (z-mean)/std\n",
    "    return integrate.quad(norm.pdf,b,z)[0]\n",
    "print(f\"Probability that current > 13mA is: {1-I(13)}\")\n",
    "print(f\"Probability that current is between 9 mA and 11 mA is : {1-I(11,b=9)}\")"
   ]
  },
  {
   "cell_type": "markdown",
   "id": "legendary-midnight",
   "metadata": {},
   "source": [
    "# Problem Statement 12:"
   ]
  },
  {
   "cell_type": "code",
   "execution_count": 55,
   "id": "indirect-parameter",
   "metadata": {},
   "outputs": [
    {
     "name": "stdout",
     "output_type": "stream",
     "text": [
      "Proportion of shafts with dia in range of 0.2485<d<0.2515 when mean diameter:(0.2508, None)\n",
      "Proportion of shafts with dia in range of 0.2485<d<0.2515 when mean diameter:(0.25, None)\n"
     ]
    }
   ],
   "source": [
    "mean_dia=0.2508\n",
    "std_dia=0.0005\n",
    "#specified dia in the range of 0.2485<d<0.2515\n",
    "#case-1 if mean_dia=0.2508\n",
    "def I(mean,std,a,b) :\n",
    "  #gives P(Z<=x)\n",
    "  a=(a-mean)/std\n",
    "  b=(b-mean)/std\n",
    "print(f\"Proportion of shafts with dia in range of 0.2485<d<0.2515 when mean diameter:{0.2508,I(0.2508,0.0005,0.2485,0.2515)}\")\n",
    "print(f\"Proportion of shafts with dia in range of 0.2485<d<0.2515 when mean diameter:{0.2500,I(0.2500,0.0005,0.2485,0.2515)}\")"
   ]
  },
  {
   "cell_type": "code",
   "execution_count": null,
   "id": "dying-house",
   "metadata": {},
   "outputs": [],
   "source": []
  },
  {
   "cell_type": "code",
   "execution_count": null,
   "id": "peripheral-twelve",
   "metadata": {},
   "outputs": [],
   "source": []
  },
  {
   "cell_type": "code",
   "execution_count": null,
   "id": "sporting-asian",
   "metadata": {},
   "outputs": [],
   "source": []
  },
  {
   "cell_type": "code",
   "execution_count": null,
   "id": "prompt-lover",
   "metadata": {},
   "outputs": [],
   "source": []
  },
  {
   "cell_type": "code",
   "execution_count": null,
   "id": "starting-priority",
   "metadata": {},
   "outputs": [],
   "source": []
  },
  {
   "cell_type": "code",
   "execution_count": null,
   "id": "rubber-flavor",
   "metadata": {},
   "outputs": [],
   "source": []
  }
 ],
 "metadata": {
  "kernelspec": {
   "display_name": "Python 3",
   "language": "python",
   "name": "python3"
  },
  "language_info": {
   "codemirror_mode": {
    "name": "ipython",
    "version": 3
   },
   "file_extension": ".py",
   "mimetype": "text/x-python",
   "name": "python",
   "nbconvert_exporter": "python",
   "pygments_lexer": "ipython3",
   "version": "3.7.8"
  }
 },
 "nbformat": 4,
 "nbformat_minor": 5
}

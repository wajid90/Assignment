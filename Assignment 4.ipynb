{
 "cells": [
  {
   "cell_type": "markdown",
   "metadata": {},
   "source": [
    "# Question -1"
   ]
  },
  {
   "cell_type": "code",
   "execution_count": 2,
   "metadata": {},
   "outputs": [
    {
     "name": "stdout",
     "output_type": "stream",
     "text": [
      "the Area is  43.474130238568314\n"
     ]
    }
   ],
   "source": [
    "class parent:\n",
    "    def __init__(self,val1,val2,val3):\n",
    "        self.a=val1\n",
    "        self.b=val2\n",
    "        self.c=val3\n",
    "        self.s=val1+val2+val3\n",
    "class student(parent):\n",
    "    def __init__(self,val1,val2,val3):\n",
    "        parent.__init__(self,val1,val2,val3)\n",
    "    def Area(self):\n",
    "        return (self.s*(self.s-self.a)*(self.s-self.b)*(self.s-self.c)) ** 0.5\n",
    "        \n",
    "\n",
    "due1=student(2,3,4)\n",
    "print('the Area is ',due1.Area())"
   ]
  },
  {
   "cell_type": "markdown",
   "metadata": {},
   "source": [
    "# Question --2"
   ]
  },
  {
   "cell_type": "code",
   "execution_count": 4,
   "metadata": {},
   "outputs": [
    {
     "name": "stdout",
     "output_type": "stream",
     "text": [
      "Please input the list of words: wajid ali altamash\n",
      "Please input the list of words: 3\n"
     ]
    },
    {
     "data": {
      "text/plain": [
       "['wajid', 'altamash']"
      ]
     },
     "execution_count": 4,
     "metadata": {},
     "output_type": "execute_result"
    }
   ],
   "source": [
    "def filterlongword(string,number):\n",
    "    return [word for word in string if len(word) > number]\n",
    "\n",
    "words =input(\"Please input the list of words: \").split()\n",
    "number=int(input(\"Please input the list of words: \"))\n",
    "filterlongword(words,number)"
   ]
  },
  {
   "cell_type": "markdown",
   "metadata": {},
   "source": [
    "# Question--3"
   ]
  },
  {
   "cell_type": "code",
   "execution_count": 4,
   "metadata": {},
   "outputs": [
    {
     "data": {
      "text/plain": [
       "[2, 3, 4]"
      ]
     },
     "execution_count": 4,
     "metadata": {},
     "output_type": "execute_result"
    }
   ],
   "source": [
    "list(map(lambda l:len(l),['ab','cde','erty']))"
   ]
  },
  {
   "cell_type": "markdown",
   "metadata": {},
   "source": [
    "# Question-4"
   ]
  },
  {
   "cell_type": "code",
   "execution_count": 5,
   "metadata": {},
   "outputs": [
    {
     "name": "stdout",
     "output_type": "stream",
     "text": [
      "True\n"
     ]
    }
   ],
   "source": [
    "def vowel_or_not(l):\n",
    "    if ((l=='a' or l=='A') or (l=='e' or l=='E') or (l=='i' or l=='I' ) or (l=='o' or l=='O' ) or (l=='U' or l=='u' )):\n",
    "        return True\n",
    "    else:\n",
    "        return False\n",
    "print(vowel_or_not('a'))"
   ]
  }
 ],
 "metadata": {
  "kernelspec": {
   "display_name": "Python 3",
   "language": "python",
   "name": "python3"
  },
  "language_info": {
   "codemirror_mode": {
    "name": "ipython",
    "version": 3
   },
   "file_extension": ".py",
   "mimetype": "text/x-python",
   "name": "python",
   "nbconvert_exporter": "python",
   "pygments_lexer": "ipython3",
   "version": "3.7.6"
  }
 },
 "nbformat": 4,
 "nbformat_minor": 4
}
